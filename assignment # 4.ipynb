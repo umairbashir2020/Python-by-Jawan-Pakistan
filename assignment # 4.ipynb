{
 "cells": [
  {
   "cell_type": "code",
   "execution_count": 2,
   "id": "3da39e62",
   "metadata": {},
   "outputs": [
    {
     "name": "stdout",
     "output_type": "stream",
     "text": [
      "Enter the first number: 23\n",
      "Enter the second number: 33\n",
      "Enter the operator you want to perform\n",
      "Enter any of these operator for operation +, -, *, /  +\n",
      "23 + 33 :  56\n"
     ]
    }
   ],
   "source": [
    "# 1. Make a calculator using Python with addition , subtraction , \n",
    "# multiplication ,division and power.\n",
    "num1=int(input(\"Enter the first number: \"))\n",
    "num2=int(input(\"Enter the second number: \"))\n",
    "\n",
    "print(\"Enter the operator you want to perform\");\n",
    "\n",
    "ch=input(\"Enter any of these operator for operation +, -, *, /  \")\n",
    "\n",
    "result=0\n",
    "if ch=='+':\n",
    "    result=num1+num2;\n",
    "elif ch=='-':\n",
    "    result=num1-num2;\n",
    "\n",
    "elif ch=='*':\n",
    "    result=num1*num2;\n",
    "elif ch=='/':\n",
    "    result=num1/num2;\n",
    "\n",
    "else:\n",
    "   print(\"char is not supported\");\n",
    "\n",
    "print(num1,ch,num2,\": \",result)"
   ]
  },
  {
   "cell_type": "code",
   "execution_count": 3,
   "id": "9e38cd1b",
   "metadata": {},
   "outputs": [
    {
     "name": "stdout",
     "output_type": "stream",
     "text": [
      "4\n"
     ]
    }
   ],
   "source": [
    "# 2. Write a program to check if there is any numeric value in list using for \n",
    "# loop\n",
    "list = [\"abc\", \"def\", 4, \"ghi\"] \n",
    "for x in list: \n",
    "    if type(x) == int: \n",
    "        print( x)"
   ]
  },
  {
   "cell_type": "code",
   "execution_count": 4,
   "id": "c2f6cf64",
   "metadata": {},
   "outputs": [
    {
     "name": "stdout",
     "output_type": "stream",
     "text": [
      "{0: 10, 1: 20}\n",
      "{0: 10, 1: 20, 2: 30}\n"
     ]
    }
   ],
   "source": [
    "# 3. Write a Python script to add a key to a dictionary.\n",
    "d = {0:10, 1:20}\n",
    "print(d)\n",
    "d.update({2:30})\n",
    "print(d)\n"
   ]
  },
  {
   "cell_type": "code",
   "execution_count": 5,
   "id": "1d885d31",
   "metadata": {},
   "outputs": [
    {
     "name": "stdout",
     "output_type": "stream",
     "text": [
      "293\n"
     ]
    }
   ],
   "source": [
    "# 4. Write a Python program to sum all the numeric items in a dictionary.\n",
    "my_dict = {'data1':100,'data2':-54,'data3':247}\n",
    "print(sum(my_dict.values()))\n"
   ]
  },
  {
   "cell_type": "code",
   "execution_count": 6,
   "id": "751021fa",
   "metadata": {},
   "outputs": [
    {
     "name": "stdout",
     "output_type": "stream",
     "text": [
      "2 3 4 5 "
     ]
    }
   ],
   "source": [
    "# 5. Write a program to identify duplicate values from list.\n",
    "l=[1,2,3,4,5,2,3,4,7,9,5]\n",
    "l1=[]\n",
    "for i in l:\n",
    "    if i not in l1:\n",
    "        l1.append(i)\n",
    "    else:\n",
    "        print(i,end=' ')"
   ]
  },
  {
   "cell_type": "code",
   "execution_count": null,
   "id": "d238b394",
   "metadata": {},
   "outputs": [],
   "source": []
  }
 ],
 "metadata": {
  "kernelspec": {
   "display_name": "Python 3",
   "language": "python",
   "name": "python3"
  },
  "language_info": {
   "codemirror_mode": {
    "name": "ipython",
    "version": 3
   },
   "file_extension": ".py",
   "mimetype": "text/x-python",
   "name": "python",
   "nbconvert_exporter": "python",
   "pygments_lexer": "ipython3",
   "version": "3.8.8"
  }
 },
 "nbformat": 4,
 "nbformat_minor": 5
}
