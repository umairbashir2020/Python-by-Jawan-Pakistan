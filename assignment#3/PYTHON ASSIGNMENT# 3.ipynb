{
 "cells": [
  {
   "cell_type": "code",
   "execution_count": 2,
   "id": "2ea3a038",
   "metadata": {},
   "outputs": [
    {
     "name": "stdout",
     "output_type": "stream",
     "text": [
      "Python version\n",
      "3.8.8 (default, Apr 13 2021, 15:08:03) [MSC v.1916 64 bit (AMD64)]\n"
     ]
    }
   ],
   "source": [
    "# Problem number 2: to check the verion of python\n",
    "import sys\n",
    "print(\"Python version\");\n",
    "print (sys.version)"
   ]
  },
  {
   "cell_type": "code",
   "execution_count": 3,
   "id": "7a7db706",
   "metadata": {},
   "outputs": [
    {
     "name": "stdout",
     "output_type": "stream",
     "text": [
      "Current date and time : \n",
      "21-10-24 00:55:08\n"
     ]
    }
   ],
   "source": [
    "# Problem number 3: Display the current date and time\n",
    "import datetime\n",
    "now = datetime.datetime.now();\n",
    "print (\"Current date and time : \");\n",
    "print (now.strftime(\"%y-%m-%d %H:%M:%S\"))"
   ]
  },
  {
   "cell_type": "code",
   "execution_count": 4,
   "id": "b28bb7b4",
   "metadata": {},
   "outputs": [
    {
     "name": "stdout",
     "output_type": "stream",
     "text": [
      "Input the radius of the circle : 12\n",
      "The area of the circle with radius 12.0 is: 452.3893421169302\n"
     ]
    }
   ],
   "source": [
    "# Problem number 4: take the radius of circle and compute the circle area\n",
    "from math import pi\n",
    "r = float(input (\"Input the radius of the circle : \"));\n",
    "print (\"The area of the circle with radius \" + str(r) + \" is: \" + str(pi * r**2))"
   ]
  },
  {
   "cell_type": "code",
   "execution_count": 6,
   "id": "2847832f",
   "metadata": {},
   "outputs": [
    {
     "name": "stdout",
     "output_type": "stream",
     "text": [
      "Input your First Name : bashir ahmad\n",
      "Input your Last Name : umair\n",
      "Hello  umair bashir ahmad\n"
     ]
    }
   ],
   "source": [
    "# Problem number 5: take 1st and last name and print them in reverse \n",
    "fname = input(\"Input your First Name : \");\n",
    "lname = input(\"Input your Last Name : \");\n",
    "print (\"Hello  \" + lname + \" \" + fname);\n"
   ]
  },
  {
   "cell_type": "code",
   "execution_count": 9,
   "id": "a1200782",
   "metadata": {},
   "outputs": [
    {
     "name": "stdout",
     "output_type": "stream",
     "text": [
      "enter input23\n",
      "enter your 2nd input7\n",
      "30\n"
     ]
    }
   ],
   "source": [
    "# Problem number 6: sum/addition of 2 inputs\n",
    "a=input(\"enter input\");\n",
    "b=input(\"enter your 2nd input\");\n",
    "sum=int(a) + int(b);\n",
    "print(sum)"
   ]
  },
  {
   "cell_type": "code",
   "execution_count": 15,
   "id": "436a4b7c",
   "metadata": {},
   "outputs": [
    {
     "name": "stdout",
     "output_type": "stream",
     "text": [
      "Enter marks of the first subject: 23\n",
      "Enter marks of the second subject: 23\n",
      "Enter marks of the third subject: 23\n",
      "Enter marks of the fourth subject: 23\n",
      "Enter marks of the fifth subject: 23\n",
      "total marks of 5 subject is = 115\n",
      "Grade: A\n"
     ]
    }
   ],
   "source": [
    "# Problem number 7: taking 5 inputs of different subjects,total it and generate marks sheet using grades\n",
    "s1=int(input(\"Enter marks of the first subject: \"));\n",
    "s2=int(input(\"Enter marks of the second subject: \"));\n",
    "s3=int(input(\"Enter marks of the third subject: \"));\n",
    "s4=int(input(\"Enter marks of the fourth subject: \"));\n",
    "s5=int(input(\"Enter marks of the fifth subject: \"));\n",
    "total=s1+s2+s3+s4+s5;\n",
    "print(\"total marks of 5 subject is =\",total);\n",
    "percentage=(total/5)*100;\n",
    "if(percentage>=90):\n",
    "    print(\"Grade: A\")\n",
    "elif(percentage>=80 & percentage<90):\n",
    "    print(\"Grade: B\")\n",
    "elif(percentage>=70 & percentage<80):\n",
    "    print(\"Grade: C\")\n",
    "elif(percentage>=60 & percentage<70):\n",
    "    print(\"Grade: D\")\n",
    "else:\n",
    "    print(\"Grade: F\")"
   ]
  },
  {
   "cell_type": "code",
   "execution_count": null,
   "id": "35029260",
   "metadata": {},
   "outputs": [],
   "source": [
    "#problem number 8: find the number is even or odd\n",
    "num = int(input(\"Enter a number: \")); \n",
    "if (num % 2) == 0:\n",
    "    print(\"{0} is Even\".format(num)) \n",
    "else: print(\"{0} is Odd number\".format(num))"
   ]
  },
  {
   "cell_type": "code",
   "execution_count": null,
   "id": "a4dc9b1c",
   "metadata": {},
   "outputs": [],
   "source": [
    "#problem 9: find the length of list\n",
    "list_number = [6, 3, 8, 0]\n",
    "length = len(list_number);\n",
    "print(\"The lentgh of the list is: \" + str(length));\n"
   ]
  },
  {
   "cell_type": "code",
   "execution_count": null,
   "id": "d6ce81e3",
   "metadata": {},
   "outputs": [],
   "source": [
    "#problem 10: find the all numeric items in the list\n",
    "numlist = [2,4,2,5]\n",
    "numsum=0\n",
    "for i in numlist:\n",
    "    numsum+=i\n",
    "print('Sum of List: ',numsum)"
   ]
  },
  {
   "cell_type": "code",
   "execution_count": null,
   "id": "21b5e02f",
   "metadata": {},
   "outputs": [],
   "source": [
    "#problem 11: find the largest number in the list\n",
    "lis = [1, 10, 45 , 60, 36, 16]\n",
    "lis.sort()\n",
    "print(\"Largest number in the list is:\", lis[-1])"
   ]
  },
  {
   "cell_type": "code",
   "execution_count": null,
   "id": "e44d5b1d",
   "metadata": {},
   "outputs": [],
   "source": [
    "#problem 12: find the items/number in the list less than 5\n",
    "a = [1,-34,-33, 1, 2, 3, 5, 8, 13, 21, 34, 55, 89]\n",
    "for i in a:\n",
    "    if i < 5:\n",
    "        print(i)"
   ]
  }
 ],
 "metadata": {
  "kernelspec": {
   "display_name": "Python 3",
   "language": "python",
   "name": "python3"
  },
  "language_info": {
   "codemirror_mode": {
    "name": "ipython",
    "version": 3
   },
   "file_extension": ".py",
   "mimetype": "text/x-python",
   "name": "python",
   "nbconvert_exporter": "python",
   "pygments_lexer": "ipython3",
   "version": "3.8.8"
  }
 },
 "nbformat": 4,
 "nbformat_minor": 5
}
